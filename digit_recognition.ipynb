{
 "cells": [
  {
   "cell_type": "code",
   "execution_count": 10,
   "metadata": {},
   "outputs": [],
   "source": [
    "from keras.datasets import mnist\n",
    "from matplotlib import pyplot as plt\n",
    "import numpy as np\n",
    "from keras.utils import np_utils\n",
    "from keras.models import Sequential\n",
    "from keras.layers import Convolution2D,MaxPooling2D,Flatten,Dense,Dropout\n",
    "from keras.callbacks import ModelCheckpoint"
   ]
  },
  {
   "cell_type": "code",
   "execution_count": 11,
   "metadata": {},
   "outputs": [
    {
     "name": "stdout",
     "output_type": "stream",
     "text": [
      "number of training images=  60000\n",
      "dimensions of training images=  (28, 28)\n",
      "number of testing images=  10000\n",
      "number of labels=  10\n"
     ]
    }
   ],
   "source": [
    "(train_features, train_label), (test_features, test_label) = mnist.load_data()  \n",
    "\n",
    "print \"number of training images= \",train_features.shape[0]\n",
    "print \"dimensions of training images= \",(train_features.shape[1],train_features.shape[2])\n",
    "print \"number of testing images= \",test_features.shape[0]\n",
    "print \"number of labels= \",len(np.unique(train_label))"
   ]
  },
  {
   "cell_type": "markdown",
   "metadata": {},
   "source": [
    "## visualising data"
   ]
  },
  {
   "cell_type": "code",
   "execution_count": 12,
   "metadata": {},
   "outputs": [
    {
     "data": {
      "image/png": "[encoded data removed]",
      "text/plain": [
       "<matplotlib.figure.Figure at 0x11eaf3750>"
      ]
     },
     "metadata": {},
     "output_type": "display_data"
    },
    {
     "data": {
      "image/png": "[encoded data removed]",
      "text/plain": [
       "<matplotlib.figure.Figure at 0x11f0d0890>"
      ]
     },
     "metadata": {},
     "output_type": "display_data"
    },
    {
     "data": {
      "image/png": "[encoded data removed]",
      "text/plain": [
       "<matplotlib.figure.Figure at 0x11edc8f10>"
      ]
     },
     "metadata": {},
     "output_type": "display_data"
    },
    {
     "data": {
      "image/png": "[encoded data removed]",
      "text/plain": [
       "<matplotlib.figure.Figure at 0x11f2e3090>"
      ]
     },
     "metadata": {},
     "output_type": "display_data"
    }
   ],
   "source": [
    "plt.figure(0)  \n",
    "li=[1,2,3,4]\n",
    "for ix in li:\n",
    " plt.imshow(train_features[ix,:,:],cmap='gray') #display the ix row\n",
    " plt.show()"
   ]
  },
  {
   "cell_type": "code",
   "execution_count": 13,
   "metadata": {},
   "outputs": [
    {
     "name": "stdout",
     "output_type": "stream",
     "text": [
      "2  becomes  [ 0.  0.  1.  0.  0.  0.  0.  0.  0.  0.] due to binary encoding\n"
     ]
    }
   ],
   "source": [
    "#pre-processing:\n",
    "# scaling from [0-255] to [0-1]\n",
    "train_features=train_features.astype('float32')/255.0 \n",
    "test_features=test_features.astype('float32')/255.0   \n",
    "#transformng vector into binary encoding\n",
    "train_labels = np_utils.to_categorical(train_label, 10)  \n",
    "test_labels = np_utils.to_categorical(test_label, 10)\n",
    "# preparing input for neural net\n",
    "train_features = train_features.reshape(train_features.shape[0],28, 28,1).astype('float32')\n",
    "test_features = test_features.reshape(test_features.shape[0],28, 28,1).astype('float32')\n",
    "\n",
    "print test_label[1],' becomes ',test_labels[1],'due to binary encoding'"
   ]
  },
  {
   "cell_type": "code",
   "execution_count": 14,
   "metadata": {},
   "outputs": [
    {
     "name": "stdout",
     "output_type": "stream",
     "text": [
      "_________________________________________________________________\n",
      "Layer (type)                 Output Shape              Param #   \n",
      "=================================================================\n",
      "conv2d_4 (Conv2D)            (None, 28, 28, 32)        160       \n",
      "_________________________________________________________________\n",
      "max_pooling2d_4 (MaxPooling2 (None, 14, 14, 32)        0         \n",
      "_________________________________________________________________\n",
      "conv2d_5 (Conv2D)            (None, 14, 14, 32)        4128      \n",
      "_________________________________________________________________\n",
      "max_pooling2d_5 (MaxPooling2 (None, 7, 7, 32)          0         \n",
      "_________________________________________________________________\n",
      "conv2d_6 (Conv2D)            (None, 7, 7, 64)          8256      \n",
      "_________________________________________________________________\n",
      "max_pooling2d_6 (MaxPooling2 (None, 3, 3, 64)          0         \n",
      "_________________________________________________________________\n",
      "dropout_3 (Dropout)          (None, 3, 3, 64)          0         \n",
      "_________________________________________________________________\n",
      "flatten_2 (Flatten)          (None, 576)               0         \n",
      "_________________________________________________________________\n",
      "dense_3 (Dense)              (None, 500)               288500    \n",
      "_________________________________________________________________\n",
      "dropout_4 (Dropout)          (None, 500)               0         \n",
      "_________________________________________________________________\n",
      "dense_4 (Dense)              (None, 10)                5010      \n",
      "=================================================================\n",
      "Total params: 306,054\n",
      "Trainable params: 306,054\n",
      "Non-trainable params: 0\n",
      "_________________________________________________________________\n"
     ]
    }
   ],
   "source": [
    "model=Sequential()\n",
    "model.add(Convolution2D(filters=32,kernel_size=2,padding='same',activation='relu',input_shape=(28,28,1)))\n",
    "model.add(MaxPooling2D(pool_size=2,strides=2))\n",
    "model.add(Convolution2D(filters=32,kernel_size=2,padding='same',activation='relu'))\n",
    "model.add(MaxPooling2D(pool_size=2,strides=2))\n",
    "model.add(Convolution2D(filters=64,kernel_size=2,padding='same',activation='relu'))\n",
    "model.add(MaxPooling2D(pool_size=2,strides=2))\n",
    "model.add(Dropout(0.3))\n",
    "model.add(Flatten())\n",
    "model.add(Dense(500,activation='relu'))\n",
    "model.add(Dropout(0.4))\n",
    "model.add(Dense(10,activation='softmax'))\n",
    "\n",
    "model.summary()\n",
    "\n"
   ]
  },
  {
   "cell_type": "code",
   "execution_count": 15,
   "metadata": {
    "collapsed": true
   },
   "outputs": [],
   "source": [
    "model.compile(loss='categorical_crossentropy',optimizer='rmsprop',metrics=['accuracy'])\n"
   ]
  },
  {
   "cell_type": "code",
   "execution_count": 16,
   "metadata": {},
   "outputs": [
    {
     "name": "stdout",
     "output_type": "stream",
     "text": [
      "Train on 48000 samples, validate on 12000 samples\n",
      "Epoch 1/10\n",
      "47800/48000 [============================>.] - ETA: 0s - loss: 0.4592 - acc: 0.8510Epoch 00000: val_loss improved from inf to 0.11870, saving model to best_weights.hdf5\n",
      "48000/48000 [==============================] - 30s - loss: 0.4583 - acc: 0.8514 - val_loss: 0.1187 - val_acc: 0.9638\n",
      "Epoch 2/10\n",
      "47800/48000 [============================>.] - ETA: 0s - loss: 0.1429 - acc: 0.9546Epoch 00001: val_loss improved from 0.11870 to 0.07280, saving model to best_weights.hdf5\n",
      "48000/48000 [==============================] - 29s - loss: 0.1426 - acc: 0.9547 - val_loss: 0.0728 - val_acc: 0.9774\n",
      "Epoch 3/10\n",
      "47800/48000 [============================>.] - ETA: 0s - loss: 0.1019 - acc: 0.9679Epoch 00002: val_loss improved from 0.07280 to 0.05216, saving model to best_weights.hdf5\n",
      "48000/48000 [==============================] - 30s - loss: 0.1018 - acc: 0.9679 - val_loss: 0.0522 - val_acc: 0.9846\n",
      "Epoch 4/10\n",
      "47800/48000 [============================>.] - ETA: 0s - loss: 0.0804 - acc: 0.9740Epoch 00003: val_loss did not improve\n",
      "48000/48000 [==============================] - 29s - loss: 0.0804 - acc: 0.9740 - val_loss: 0.0571 - val_acc: 0.9825\n",
      "Epoch 5/10\n",
      "47800/48000 [============================>.] - ETA: 0s - loss: 0.0689 - acc: 0.9780Epoch 00004: val_loss improved from 0.05216 to 0.04093, saving model to best_weights.hdf5\n",
      "48000/48000 [==============================] - 29s - loss: 0.0687 - acc: 0.9781 - val_loss: 0.0409 - val_acc: 0.9868\n",
      "Epoch 6/10\n",
      "47800/48000 [============================>.] - ETA: 0s - loss: 0.0588 - acc: 0.9810Epoch 00005: val_loss improved from 0.04093 to 0.03856, saving model to best_weights.hdf5\n",
      "48000/48000 [==============================] - 28s - loss: 0.0588 - acc: 0.9810 - val_loss: 0.0386 - val_acc: 0.9883\n",
      "Epoch 7/10\n",
      "47800/48000 [============================>.] - ETA: 0s - loss: 0.0537 - acc: 0.9835Epoch 00006: val_loss improved from 0.03856 to 0.03467, saving model to best_weights.hdf5\n",
      "48000/48000 [==============================] - 29s - loss: 0.0537 - acc: 0.9834 - val_loss: 0.0347 - val_acc: 0.9893\n",
      "Epoch 8/10\n",
      "47800/48000 [============================>.] - ETA: 0s - loss: 0.0490 - acc: 0.9841Epoch 00007: val_loss improved from 0.03467 to 0.03292, saving model to best_weights.hdf5\n",
      "48000/48000 [==============================] - 30s - loss: 0.0489 - acc: 0.9842 - val_loss: 0.0329 - val_acc: 0.9898\n",
      "Epoch 9/10\n",
      "47800/48000 [============================>.] - ETA: 0s - loss: 0.0441 - acc: 0.9851Epoch 00008: val_loss did not improve\n",
      "48000/48000 [==============================] - 32s - loss: 0.0443 - acc: 0.9850 - val_loss: 0.0388 - val_acc: 0.9878\n",
      "Epoch 10/10\n",
      "47800/48000 [============================>.] - ETA: 0s - loss: 0.0406 - acc: 0.9869Epoch 00009: val_loss improved from 0.03292 to 0.02987, saving model to best_weights.hdf5\n",
      "48000/48000 [==============================] - 32s - loss: 0.0405 - acc: 0.9869 - val_loss: 0.0299 - val_acc: 0.9910\n"
     ]
    }
   ],
   "source": [
    "checkpointer=ModelCheckpoint(filepath='best_weights.hdf5',verbose=1,save_best_only=True)\n",
    "hist=model.fit(train_features,train_labels,batch_size=200,epochs=10,validation_split=0.2,callbacks=[checkpointer],verbose=1,shuffle=True)\n"
   ]
  },
  {
   "cell_type": "code",
   "execution_count": 17,
   "metadata": {
    "collapsed": true
   },
   "outputs": [],
   "source": [
    "model.load_weights('best_weights.hdf5')"
   ]
  },
  {
   "cell_type": "code",
   "execution_count": 18,
   "metadata": {
    "collapsed": true
   },
   "outputs": [],
   "source": [
    "score=model.evaluate(test_features,test_labels,verbose=0)\n"
   ]
  },
  {
   "cell_type": "code",
   "execution_count": 21,
   "metadata": {},
   "outputs": [
    {
     "name": "stdout",
     "output_type": "stream",
     "text": [
      "the accuracy for the model is  99.09\n"
     ]
    }
   ],
   "source": [
    "print 'the accuracy for the model is ',score[1]*100"
   ]
  },
  {
   "cell_type": "code",
   "execution_count": 5,
   "metadata": {
    "collapsed": true
   },
   "outputs": [],
   "source": []
  },
  {
   "cell_type": "code",
   "execution_count": null,
   "metadata": {
    "collapsed": true
   },
   "outputs": [],
   "source": []
  }
 ],
 "metadata": {
  "kernelspec": {
   "display_name": "Python 2",
   "language": "python",
   "name": "python2"
  },
  "language_info": {
   "codemirror_mode": {
    "name": "ipython",
    "version": 2
   },
   "file_extension": ".py",
   "mimetype": "text/x-python",
   "name": "python",
   "nbconvert_exporter": "python",
   "pygments_lexer": "ipython2",
   "version": "2.7.13"
  }
 },
 "nbformat": 4,
 "nbformat_minor": 2
}
